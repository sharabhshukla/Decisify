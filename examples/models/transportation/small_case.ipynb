{
 "cells": [
  {
   "cell_type": "code",
   "execution_count": 6,
   "metadata": {},
   "outputs": [],
   "source": [
    "from typing import List\n",
    "import gurobipy as gp\n",
    "from gurobipy import GRB, Model, Var\n",
    "from pydantic import BaseModel, Field\n",
    "from decisify.optimizer import OptModel\n",
    "from decisify.core import OptInputModel, OptOutputModel\n",
    "from decisify.explainer import GurobiInterrogator"
   ]
  },
  {
   "cell_type": "code",
   "execution_count": 7,
   "metadata": {},
   "outputs": [],
   "source": [
    "# consider a simple, small transportation network\n",
    "# Sets\n",
    "warehouses = [\"W1\", \"W2\"]\n",
    "customers = [\"C1\", \"C2\", \"C3\"]\n",
    "\n",
    "# Parameters\n",
    "supply = {\"W1\": 20, \"W2\": 30}\n",
    "demand = {\"C1\": 10, \"C2\": 10, \"C3\": 30}\n",
    "cost ={\"W1\": {\"C1\": 2, \"C2\": 3, \"C3\": 1},\n",
    "         \"W2\": {\"C1\": 4, \"C2\": 1, \"C3\": 3}}"
   ]
  },
  {
   "cell_type": "code",
   "execution_count": 8,
   "metadata": {},
   "outputs": [],
   "source": [
    "# Define the input data to the optimizer\n",
    "class TransportationInputs(OptInputModel):\n",
    "    \"\"\"Input data for the transportation problem\"\"\"\n",
    "    warehouses: list[str] = Field(description=\"List of warehouses\")\n",
    "    customers: list[str] = Field(description=\"List of customers\")\n",
    "    supply: dict[str, int] = Field(description=\"Supply at each warehouse\")\n",
    "    demand: dict[str, int] = Field(description=\"Demand at each customer\")\n",
    "    cost: dict[str, dict[str, int]] = Field(description=\"Cost of transportation between warehouses and customers\")\n"
   ]
  },
  {
   "cell_type": "code",
   "execution_count": 9,
   "metadata": {},
   "outputs": [],
   "source": [
    "# Define the output data to the optimizer\n",
    "class TransportationOutputs(OptOutputModel):\n",
    "    \"\"\"Output data for the transportation problem\"\"\"\n",
    "    status: int = Field(description=\"Status of the optimization model\")\n",
    "    total_cost: float = Field(description=\"Total transportation cost\")\n",
    "    solution: dict[tuple[str, str], float] = Field(description=\"Solution for the transportation problem\")\n"
   ]
  },
  {
   "cell_type": "code",
   "execution_count": 10,
   "metadata": {},
   "outputs": [],
   "source": [
    "class TransportationModel(OptModel):\n",
    "    \"\"\" Optimization model for the transportation problem\"\"\"\n",
    "\n",
    "    def _generate_opt_model(self, input_data: TransportationInputs):\n",
    "        \"\"\" Generate the optimization model for the transportation problem\"\"\"\n",
    "        # Create a new model\n",
    "        model = gp.Model(\"transportation\")\n",
    "\n",
    "        # Create variables\n",
    "        x = model.addVars(input_data.warehouses, input_data.customers, name=\"x\")\n",
    "\n",
    "        # Set objective\n",
    "        model.setObjective(gp.quicksum(input_data.cost[w][c] * x[w, c] for w in input_data.warehouses for c in input_data.customers), GRB.MINIMIZE)\n",
    "\n",
    "        # Add supply constraints\n",
    "        model.addConstrs((gp.quicksum(x[w, c] for c in input_data.customers) <= input_data.supply[w] for w in input_data.warehouses), \"Supply\")\n",
    "\n",
    "        # Add demand constraints\n",
    "        model.addConstrs((gp.quicksum(x[w, c] for w in input_data.warehouses) == input_data.demand[c] for c in input_data.customers), \"Demand\")\n",
    "\n",
    "        self.model = model\n",
    "        self.decision_vars = {'x': x}\n",
    "\n",
    "\n",
    "    def get_solution(self, input_data: TransportationInputs) -> TransportationOutputs:\n",
    "        \"\"\" Get the solution for the transportation problem\"\"\"\n",
    "        self._generate_opt_model(input_data)\n",
    "        if self.is_solved():\n",
    "            for w in input_data.warehouses:\n",
    "                for c in input_data.customers:\n",
    "                    if self.decision_vars['x'][w, c].x > 0:\n",
    "                        print(f\"Send {self.decision_vars['x'][w, c].x} units from {w} to {c} at cost {input_data.cost[w][c]}\")\n",
    "\n",
    "            # Print the total cost\n",
    "            print(f\"Total transportation cost: {self.model.objVal}\")\n",
    "\n",
    "            return TransportationOutputs(status=GRB.OPTIMAL, total_cost=self.model.objVal, solution={self.decision_vars['x'][w, c]: self.decision_vars['x'][w, c].x for w in input_data.warehouses for c in input_data.customers})\n",
    "        else:\n",
    "            self.solve_model()\n",
    "            # Print the total cost\n",
    "            if self.model.Status == GRB.OPTIMAL or self.model.Status == GRB.INTEGER or self.model.Status == GRB.TIME_LIMIT:\n",
    "                print(f\"Total transportation cost: {self.model.objVal}\")\n",
    "                solution = {\n",
    "                                (w, c): self.decision_vars['x'][w, c].x\n",
    "                                for w in input_data.warehouses\n",
    "                                for c in input_data.customers\n",
    "                                if self.decision_vars['x'][w, c].x > 1e-6  # Filter near-zero values for clarity\n",
    "                            }\n",
    "                return TransportationOutputs(status=self.model.Status, total_cost=self.model.objVal, solution=solution)\n",
    "            else:\n",
    "                # run IIS to get infeasible constraints\n",
    "                # Run IIS to identify infeasible constraints\n",
    "                self.model.computeIIS()\n",
    "\n",
    "                # Collect IIS details\n",
    "                iis_details = \"Irreducible Inconsistent Subsystem (IIS) Details:\\n\"\n",
    "\n",
    "                # Constraints in the IIS\n",
    "                for constr in self.model.getConstrs():\n",
    "                    if constr.IISConstr:\n",
    "                        iis_details += f\"Constraint: {constr.ConstrName}\\n\"\n",
    "\n",
    "                # Variables with bound issues in the IIS\n",
    "                for var in self.model.getVars():\n",
    "                    if var.IISLB:\n",
    "                        iis_details += f\"Variable {var.VarName} has an issue with its lower bound.\\n\"\n",
    "                    if var.IISUB:\n",
    "                        iis_details += f\"Variable {var.VarName} has an issue with its upper bound.\\n\"\n",
    "\n",
    "                return f\"Model is infeasible. {iis_details}\"\n",
    "\n",
    "\n"
   ]
  },
  {
   "cell_type": "code",
   "execution_count": 11,
   "metadata": {},
   "outputs": [],
   "source": [
    "\n",
    "# Instantiate the input adata model\n",
    "input_data = TransportationInputs(\n",
    "warehouses=warehouses,\n",
    "customers=customers,\n",
    "supply=supply,\n",
    "demand=demand,\n",
    "cost=cost)"
   ]
  },
  {
   "cell_type": "code",
   "execution_count": 12,
   "metadata": {},
   "outputs": [
    {
     "name": "stdout",
     "output_type": "stream",
     "text": [
      "Restricted license - for non-production use only - expires 2026-11-23\n",
      "Gurobi Optimizer version 12.0.0 build v12.0.0rc1 (win64 - Windows 11.0 (22631.2))\n",
      "\n",
      "CPU model: Intel(R) Core(TM) Ultra 7 155H, instruction set [SSE2|AVX|AVX2]\n",
      "Thread count: 16 physical cores, 22 logical processors, using up to 22 threads\n",
      "\n",
      "Optimize a model with 5 rows, 6 columns and 12 nonzeros\n",
      "Model fingerprint: 0xe7227635\n",
      "Coefficient statistics:\n",
      "  Matrix range     [1e+00, 1e+00]\n",
      "  Objective range  [1e+00, 4e+00]\n",
      "  Bounds range     [0e+00, 0e+00]\n",
      "  RHS range        [1e+01, 3e+01]\n",
      "Presolve removed 5 rows and 6 columns\n",
      "Presolve time: 0.01s\n",
      "Presolve: All rows and columns removed\n",
      "Iteration    Objective       Primal Inf.    Dual Inf.      Time\n",
      "       0    1.0000000e+02   0.000000e+00   0.000000e+00      0s\n",
      "\n",
      "Solved in 0 iterations and 0.02 seconds (0.00 work units)\n",
      "Optimal objective  1.000000000e+02\n",
      "Total transportation cost: 100.0\n",
      "{\"status\":2,\"total_cost\":100.0,\"solution\":{\"W1,C1\":10.0,\"W1,C3\":10.0,\"W2,C2\":10.0,\"W2,C3\":20.0}}\n"
     ]
    }
   ],
   "source": [
    "# Create an instance of the transportation model\n",
    "trnsprt_model = TransportationModel()\n",
    "\n",
    "# Solve the model and print the solution\n",
    "solution = trnsprt_model.get_solution(input_data)\n",
    "print(solution.model_dump_json())"
   ]
  },
  {
   "cell_type": "code",
   "execution_count": 13,
   "metadata": {},
   "outputs": [
    {
     "name": "stdout",
     "output_type": "stream",
     "text": [
      "Gurobi Optimizer version 12.0.0 build v12.0.0rc1 (win64 - Windows 11.0 (22631.2))\n",
      "\n",
      "CPU model: Intel(R) Core(TM) Ultra 7 155H, instruction set [SSE2|AVX|AVX2]\n",
      "Thread count: 16 physical cores, 22 logical processors, using up to 22 threads\n",
      "\n",
      "Optimize a model with 5 rows, 6 columns and 12 nonzeros\n",
      "Model fingerprint: 0xe7227635\n",
      "Coefficient statistics:\n",
      "  Matrix range     [1e+00, 1e+00]\n",
      "  Objective range  [1e+00, 4e+00]\n",
      "  Bounds range     [0e+00, 0e+00]\n",
      "  RHS range        [1e+01, 3e+01]\n",
      "Presolve removed 5 rows and 6 columns\n",
      "Presolve time: 0.01s\n",
      "Presolve: All rows and columns removed\n",
      "Iteration    Objective       Primal Inf.    Dual Inf.      Time\n",
      "       0    1.0000000e+02   0.000000e+00   0.000000e+00      0s\n",
      "\n",
      "Solved in 0 iterations and 0.02 seconds (0.00 work units)\n",
      "Optimal objective  1.000000000e+02\n",
      "Total transportation cost: 100.0\n",
      "optimal solution for the transportation problem\n"
     ]
    }
   ],
   "source": [
    "interrogator = GurobiInterrogator(trnsprt_model, input_data)\n",
    "answer = interrogator.answer(\"What is the optimal solution for the transportation problem?\")\n",
    "print(answer)"
   ]
  },
  {
   "cell_type": "code",
   "execution_count": 15,
   "metadata": {},
   "outputs": [
    {
     "name": "stdout",
     "output_type": "stream",
     "text": [
      "Two factories and two distribution centers\n"
     ]
    }
   ],
   "source": [
    "answer = interrogator.answer(\"How many factories and how many distribution centers are there?\")\n",
    "print(answer)"
   ]
  },
  {
   "cell_type": "code",
   "execution_count": 16,
   "metadata": {},
   "outputs": [
    {
     "name": "stdout",
     "output_type": "stream",
     "text": [
      "Gurobi Optimizer version 12.0.0 build v12.0.0rc1 (win64 - Windows 11.0 (22631.2))\n",
      "\n",
      "CPU model: Intel(R) Core(TM) Ultra 7 155H, instruction set [SSE2|AVX|AVX2]\n",
      "Thread count: 16 physical cores, 22 logical processors, using up to 22 threads\n",
      "\n",
      "Optimize a model with 5 rows, 6 columns and 12 nonzeros\n",
      "Model fingerprint: 0x1c648fb1\n",
      "Coefficient statistics:\n",
      "  Matrix range     [1e+00, 1e+00]\n",
      "  Objective range  [2e+00, 8e+00]\n",
      "  Bounds range     [0e+00, 0e+00]\n",
      "  RHS range        [1e+01, 3e+01]\n",
      "Presolve removed 5 rows and 6 columns\n",
      "Presolve time: 0.01s\n",
      "Presolve: All rows and columns removed\n",
      "Iteration    Objective       Primal Inf.    Dual Inf.      Time\n",
      "       0    2.0000000e+02   0.000000e+00   0.000000e+00      0s\n",
      "\n",
      "Solved in 0 iterations and 0.01 seconds (0.00 work units)\n",
      "Optimal objective  2.000000000e+02\n",
      "Total transportation cost: 200.0\n",
      "status=2 total_cost=200.0 solution={('W1', 'C1'): 10.0, ('W1', 'C3'): 10.0, ('W2', 'C2'): 10.0, ('W2', 'C3'): 20.0}\n"
     ]
    }
   ],
   "source": [
    " #Now, lets assume the user wants to change the supply at warehouse W1 to 20\n",
    "answer = interrogator.what_if(\"the courier company just doubled the transportation costs, how does this affect the total cost?\")\n",
    "print(answer)"
   ]
  },
  {
   "cell_type": "code",
   "execution_count": 17,
   "metadata": {},
   "outputs": [
    {
     "name": "stdout",
     "output_type": "stream",
     "text": [
      "Gurobi Optimizer version 12.0.0 build v12.0.0rc1 (win64 - Windows 11.0 (22631.2))\n",
      "\n",
      "CPU model: Intel(R) Core(TM) Ultra 7 155H, instruction set [SSE2|AVX|AVX2]\n",
      "Thread count: 16 physical cores, 22 logical processors, using up to 22 threads\n",
      "\n",
      "Optimize a model with 5 rows, 6 columns and 12 nonzeros\n",
      "Model fingerprint: 0xa747bb0d\n",
      "Coefficient statistics:\n",
      "  Matrix range     [1e+00, 1e+00]\n",
      "  Objective range  [1e+00, 4e+00]\n",
      "  Bounds range     [0e+00, 0e+00]\n",
      "  RHS range        [1e+01, 1e+03]\n",
      "Presolve time: 0.01s\n",
      "\n",
      "Solved in 0 iterations and 0.01 seconds (0.00 work units)\n",
      "Infeasible model\n",
      "Gurobi Optimizer version 12.0.0 build v12.0.0rc1 (win64 - Windows 11.0 (22631.2))\n",
      "\n",
      "CPU model: Intel(R) Core(TM) Ultra 7 155H, instruction set [SSE2|AVX|AVX2]\n",
      "Thread count: 16 physical cores, 22 logical processors, using up to 22 threads\n",
      "\n",
      "Iteration    Objective       Primal Inf.    Dual Inf.      Time\n",
      "       0    2.0400000e+03   1.010000e+03   0.000000e+00      0s\n",
      "\n",
      "IIS computed: 5 constraints and 0 bounds\n",
      "IIS runtime: 0.00 seconds (0.00 work units)\n",
      "Model is infeasible. Irreducible Inconsistent Subsystem (IIS) Details:\n",
      "Constraint: Supply[W1]\n",
      "Constraint: Supply[W2]\n",
      "Constraint: Demand[C1]\n",
      "Constraint: Demand[C2]\n",
      "Constraint: Demand[C3]\n",
      "\n"
     ]
    }
   ],
   "source": [
    "answer = interrogator.what_if(\"The demand at customer C1 has increased by 100 times, how does this affect the total cost?\")\n",
    "print(answer)"
   ]
  },
  {
   "cell_type": "code",
   "execution_count": null,
   "metadata": {},
   "outputs": [],
   "source": []
  }
 ],
 "metadata": {
  "kernelspec": {
   "display_name": ".venv",
   "language": "python",
   "name": "python3"
  },
  "language_info": {
   "codemirror_mode": {
    "name": "ipython",
    "version": 3
   },
   "file_extension": ".py",
   "mimetype": "text/x-python",
   "name": "python",
   "nbconvert_exporter": "python",
   "pygments_lexer": "ipython3",
   "version": "3.11.9"
  }
 },
 "nbformat": 4,
 "nbformat_minor": 2
}
